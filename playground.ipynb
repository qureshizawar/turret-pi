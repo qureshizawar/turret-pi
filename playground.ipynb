{
 "cells": [
  {
   "cell_type": "code",
   "execution_count": null,
   "metadata": {},
   "outputs": [],
   "source": [
    "import cv2 #For Image processing \n",
    "import numpy as np #For converting Images to Numerical array \n",
    "import os #To handle directories \n",
    "from PIL import Image #Pillow lib for handling images"
   ]
  },
  {
   "cell_type": "code",
   "execution_count": null,
   "metadata": {},
   "outputs": [],
   "source": [
    "import matplotlib.pyplot as plt"
   ]
  },
  {
   "cell_type": "code",
   "execution_count": null,
   "metadata": {},
   "outputs": [],
   "source": [
    "cap = cv2.VideoCapture(0) #Get vidoe feed from the Camera"
   ]
  },
  {
   "cell_type": "code",
   "execution_count": null,
   "metadata": {},
   "outputs": [],
   "source": [
    "ret, img = cap.read() # Break video into frames "
   ]
  },
  {
   "cell_type": "code",
   "execution_count": null,
   "metadata": {},
   "outputs": [],
   "source": [
    "plt.imshow(img)"
   ]
  },
  {
   "cell_type": "code",
   "execution_count": null,
   "metadata": {},
   "outputs": [],
   "source": []
  },
  {
   "cell_type": "code",
   "execution_count": null,
   "metadata": {},
   "outputs": [],
   "source": [
    "import cv2 #For Image processing \n",
    "import numpy as np #For converting Images to Numerical array \n",
    "import os #To handle directories \n",
    "from PIL import Image #Pillow lib for handling images \n",
    "\n",
    "face_cascade = cv2.CascadeClassifier('haarcascade_frontalface_default.xml')\n",
    "recognizer = cv2.face.createLBPHFaceRecognizer() #cv2.createLBPHFaceRecognizer()\n",
    "\n",
    "Face_ID = -1 \n",
    "pev_person_name = \"\"\n",
    "y_ID = []\n",
    "x_train = []"
   ]
  },
  {
   "cell_type": "code",
   "execution_count": null,
   "metadata": {},
   "outputs": [],
   "source": [
    "Face_Images = os.path.join(os.getcwd(), \"Faces\") #Tell the program where we have saved the face images \n",
    "print (Face_Images)"
   ]
  },
  {
   "cell_type": "code",
   "execution_count": null,
   "metadata": {},
   "outputs": [],
   "source": [
    "for root, dirs, files in os.walk(Face_Images): #go to the face image directory \n",
    "\tfor file in files: #check every directory in it \n",
    "\t\tif file.endswith(\"jpeg\") or file.endswith(\"jpg\") or file.endswith(\"png\"): #for image files ending with jpeg,jpg or png \n",
    "\t\t\tpath = os.path.join(root, file)\n",
    "\t\t\tperson_name = os.path.basename(root)\n",
    "\t\t\tprint(path, person_name)\n",
    "\n",
    "\t\t\t\n",
    "\t\t\tif pev_person_name!=person_name: #Check if the name of person has changed \n",
    "\t\t\t\tFace_ID=Face_ID+1 #If yes increment the ID count \n",
    "\t\t\t\tpev_person_name = person_name\n",
    "\n",
    "\t\t\t\n",
    "\t\t\tGery_Image = Image.open(path).convert(\"L\") # convert the image to greysclae using Pillow\n",
    "\t\t\tCrop_Image = Gery_Image.resize( (550,550) , Image.ANTIALIAS) #Crop the Grey Image to 550*550 (Make sure your face is in the center in all image)\n",
    "\t\t\tFinal_Image = np.array(Crop_Image, \"uint8\")\n",
    "\t\t\t#print(Numpy_Image)\n",
    "\t\t\tfaces = face_cascade.detectMultiScale(Final_Image, scaleFactor=1.5, minNeighbors=5) #Detect The face in all sample image \n",
    "\t\t\tprint (Face_ID,faces)\n",
    "\n",
    "\t\t\tfor (x,y,w,h) in faces:\n",
    "\t\t\t\troi = Final_Image[y:y+h, x:x+w] #crop the Region of Interest (ROI)\n",
    "\t\t\t\tx_train.append(roi)\n",
    "\t\t\t\ty_ID.append(Face_ID)"
   ]
  },
  {
   "cell_type": "code",
   "execution_count": null,
   "metadata": {},
   "outputs": [],
   "source": [
    "recognizer.train(x_train, np.array(y_ID)) #Create a Matrix of Training data \n",
    "recognizer.save(\"face-trainner.yml\") #Save the matrix as YML file "
   ]
  },
  {
   "cell_type": "code",
   "execution_count": null,
   "metadata": {},
   "outputs": [],
   "source": []
  }
 ],
 "metadata": {
  "kernelspec": {
   "display_name": "Python 3",
   "language": "python",
   "name": "python3"
  },
  "language_info": {
   "codemirror_mode": {
    "name": "ipython",
    "version": 3
   },
   "file_extension": ".py",
   "mimetype": "text/x-python",
   "name": "python",
   "nbconvert_exporter": "python",
   "pygments_lexer": "ipython3",
   "version": "3.6.5"
  }
 },
 "nbformat": 4,
 "nbformat_minor": 2
}
